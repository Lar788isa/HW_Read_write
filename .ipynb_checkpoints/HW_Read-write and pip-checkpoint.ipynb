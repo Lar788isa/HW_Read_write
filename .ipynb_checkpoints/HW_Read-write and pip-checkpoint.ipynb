{
 "cells": [
  {
   "cell_type": "markdown",
   "metadata": {},
   "source": [
    "### С файлами их всегда много\n",
    "### Упражнение на списки и функции\n",
    "Дана строчка sequence с последовательностью натуральных чисел, разделенных пробелом. Посчитайте:\n",
    "1. Количество четных и нечетных чисел в этой строке\n",
    "2. Если четных больше, то укажите номер позиции первого \"лишнего\" нечетного числа\n",
    "3. Если нечетных больше, то укажите позицию первого \"лишнего\" четного числа\n",
    "4. Как бонусный вариант оформите код в виде функции"
   ]
  },
  {
   "cell_type": "code",
   "execution_count": 1,
   "metadata": {},
   "outputs": [],
   "source": [
    "sequence = '2 3 1 5 9 22 3 5'"
   ]
  },
  {
   "cell_type": "markdown",
   "metadata": {},
   "source": [
    "Может пригодиться:"
   ]
  },
  {
   "cell_type": "code",
   "execution_count": 2,
   "metadata": {},
   "outputs": [
    {
     "data": {
      "text/plain": [
       "['2', '3', '1', '5', '9', '22', '3', '5']"
      ]
     },
     "execution_count": 2,
     "metadata": {},
     "output_type": "execute_result"
    }
   ],
   "source": [
    "# получить список из строки\n",
    "sequence.split(' ')"
   ]
  },
  {
   "cell_type": "code",
   "execution_count": 3,
   "metadata": {},
   "outputs": [
    {
     "data": {
      "text/plain": [
       "2"
      ]
     },
     "execution_count": 3,
     "metadata": {},
     "output_type": "execute_result"
    }
   ],
   "source": [
    "# перевод строки в целое число\n",
    "int('2')"
   ]
  },
  {
   "cell_type": "code",
   "execution_count": 4,
   "metadata": {},
   "outputs": [
    {
     "data": {
      "text/plain": [
       "True"
      ]
     },
     "execution_count": 4,
     "metadata": {},
     "output_type": "execute_result"
    }
   ],
   "source": [
    "# проверка четности\n",
    "22 % 2 == 0"
   ]
  },
  {
   "cell_type": "code",
   "execution_count": 5,
   "metadata": {},
   "outputs": [
    {
     "data": {
      "text/plain": [
       "[2, 3, 1, 5, 9, 22, 3, 5]"
      ]
     },
     "execution_count": 5,
     "metadata": {},
     "output_type": "execute_result"
    }
   ],
   "source": [
    "sequence_num = [int(x) for x in sequence.split(' ')]\n",
    "sequence_num"
   ]
  },
  {
   "cell_type": "code",
   "execution_count": 7,
   "metadata": {},
   "outputs": [
    {
     "data": {
      "text/plain": [
       "2"
      ]
     },
     "execution_count": 7,
     "metadata": {},
     "output_type": "execute_result"
    }
   ],
   "source": [
    "odd_num_count = len([x for x in sequence_num if x % 2 == 0])\n",
    "odd_num_count"
   ]
  },
  {
   "cell_type": "code",
   "execution_count": 12,
   "metadata": {},
   "outputs": [
    {
     "name": "stdout",
     "output_type": "stream",
     "text": [
      "6\n",
      "2\n",
      "[3, 1, 5, 9, 3, 5]\n",
      "[2, 22]\n",
      "3\n"
     ]
    }
   ],
   "source": [
    "a = sequence.split(' ') # строки сделали список с элементами. смотри ниже\n",
    "\n",
    "odd = 0\n",
    "even = 0\n",
    "\n",
    "odd_list = []\n",
    "even_list = []\n",
    "\n",
    "for i in a:\n",
    "    i = int(i)\n",
    "    if i % 2 == 0:\n",
    "        even += 1\n",
    "        even_list.append(i)\n",
    "    else:\n",
    "        odd += 1\n",
    "        odd_list.append(i)\n",
    "print(odd) # как интересно - он напечатал длину списка!!!\n",
    "print(even)\n",
    "\n",
    "print(odd_list)\n",
    "print(even_list)\n",
    "\n",
    "#проверяем каких чисел больше четных или нечетных и берем первый элемент вхождения\n",
    "if odd > even:\n",
    "    print(odd_list[0])\n",
    "else:\n",
    "    print(even_list[0])"
   ]
  },
  {
   "cell_type": "code",
   "execution_count": 9,
   "metadata": {},
   "outputs": [
    {
     "data": {
      "text/plain": [
       "['2', '3', '1', '5', '9', '22', '3', '5']"
      ]
     },
     "execution_count": 9,
     "metadata": {},
     "output_type": "execute_result"
    }
   ],
   "source": [
    "a\n",
    "# строки сделали список с элементами"
   ]
  },
  {
   "cell_type": "code",
   "execution_count": 10,
   "metadata": {},
   "outputs": [
    {
     "name": "stdout",
     "output_type": "stream",
     "text": [
      "1\n",
      "6\n"
     ]
    }
   ],
   "source": [
    "# а какой он (3) по индексу \n",
    "counter = 0\n",
    "for el in a:\n",
    "    if int(el) == 3:\n",
    "        print(counter)\n",
    "    counter += 1\n",
    "    \n",
    "# здесь два \"3\" поэтому два индекса"
   ]
  },
  {
   "cell_type": "code",
   "execution_count": 14,
   "metadata": {},
   "outputs": [
    {
     "data": {
      "text/plain": [
       "1"
      ]
     },
     "execution_count": 14,
     "metadata": {},
     "output_type": "execute_result"
    }
   ],
   "source": [
    "a.index('3') # здесь показал индекс первого входящего \"3\""
   ]
  },
  {
   "cell_type": "code",
   "execution_count": 15,
   "metadata": {},
   "outputs": [
    {
     "name": "stdout",
     "output_type": "stream",
     "text": [
      "(0, '2')\n",
      "(1, '3')\n",
      "(2, '1')\n",
      "(3, '5')\n",
      "(4, '9')\n",
      "(5, '22')\n",
      "(6, '3')\n",
      "(7, '5')\n"
     ]
    }
   ],
   "source": [
    "for i in enumerate(a):\n",
    "    print(i)"
   ]
  },
  {
   "cell_type": "code",
   "execution_count": null,
   "metadata": {},
   "outputs": [],
   "source": [
    "# вариант повеселее\n",
    "# дана квадратная матрица в виде строки\n",
    "arr_str = \"\"\" 11 2 4\n",
    "4 5 6\n",
    "10 8 -12\n",
    "\"\"\"\n",
    "#необходимо вычислить разницу сумм чисел на ее диаганали\n",
    "#в примере это разница (11+5+12) и (4+5+10)"
   ]
  },
  {
   "cell_type": "code",
   "execution_count": null,
   "metadata": {},
   "outputs": [],
   "source": []
  },
  {
   "cell_type": "markdown",
   "metadata": {},
   "source": [
    "# Чтение файлов\n",
    "Рассматриваем задачу сквозной аналитики. Будем работать с этими файлами:\n",
    "- visit_log.csv\n",
    "- purchase_log.txt"
   ]
  },
  {
   "cell_type": "markdown",
   "metadata": {},
   "source": [
    "### Способ 1. Делаем все пошагово\n",
    "Опции при открытии файлов:\n",
    "- 'r' открыть для чтения. Файл при этом не меняется\n",
    "- 'w' открыть файл для записи. Файл при этом полностью чистится (!)\n",
    "- 'a' открыть файл для добавления. Файл не меняется, все записи добавляются в конец"
   ]
  },
  {
   "cell_type": "code",
   "execution_count": 17,
   "metadata": {},
   "outputs": [],
   "source": [
    "# открываем файл для чтения (опция r), open просто открывает файл для работы в петоне\n",
    "f = open('visit_log.csv', 'r') # здесь мы указываем путь к файлу 'visit_log.csv', он может быть любой в твоем компе\n",
    "# по умолчанию питон ищет в этой же папке/ "
   ]
  },
  {
   "cell_type": "code",
   "execution_count": 18,
   "metadata": {
    "scrolled": true
   },
   "outputs": [
    {
     "data": {
      "text/plain": [
       "'user_id,source\\n'"
      ]
     },
     "execution_count": 18,
     "metadata": {},
     "output_type": "execute_result"
    }
   ],
   "source": [
    "# прочитать одну строчку\n",
    "f.readline()"
   ]
  },
  {
   "cell_type": "code",
   "execution_count": 19,
   "metadata": {
    "scrolled": true
   },
   "outputs": [
    {
     "data": {
      "text/plain": [
       "'6450655ae8,other\\n'"
      ]
     },
     "execution_count": 19,
     "metadata": {},
     "output_type": "execute_result"
    }
   ],
   "source": [
    "# прочитать следующую строчку, так как я еще раз обратилась к ней. И так каждый раз - все новая и новая строка\n",
    "f.readline()\n",
    " # \\n служебный символ означающий перенос строки. В самом файле мы этого не увидем. \n",
    " # Питон читает как единый символ, и \\n как пеернос на след строчку очередной символ"
   ]
  },
  {
   "cell_type": "code",
   "execution_count": 20,
   "metadata": {},
   "outputs": [
    {
     "data": {
      "text/plain": [
       "'b4ea53e670,other\\n'"
      ]
     },
     "execution_count": 20,
     "metadata": {},
     "output_type": "execute_result"
    }
   ],
   "source": [
    "# прочитать еще одну\n",
    "f.readline()"
   ]
  },
  {
   "cell_type": "code",
   "execution_count": 21,
   "metadata": {},
   "outputs": [
    {
     "data": {
      "text/plain": [
       "'0e37347152,other\\n'"
      ]
     },
     "execution_count": 21,
     "metadata": {},
     "output_type": "execute_result"
    }
   ],
   "source": [
    "# можно и так\n",
    "next(f)"
   ]
  },
  {
   "cell_type": "code",
   "execution_count": 33,
   "metadata": {},
   "outputs": [
    {
     "name": "stdout",
     "output_type": "stream",
     "text": [
      "1f8845e157,context\n",
      "\n"
     ]
    }
   ],
   "source": [
    "for i in range(7):\n",
    "    line = f.readline()\n",
    "print(line)\n",
    "\n",
    "#мы полуили в данном случае не 7 строчку, а 7-му по счету от последней использованной до этого!!!!"
   ]
  },
  {
   "cell_type": "code",
   "execution_count": 26,
   "metadata": {},
   "outputs": [
    {
     "data": {
      "text/plain": [
       "0"
      ]
     },
     "execution_count": 26,
     "metadata": {},
     "output_type": "execute_result"
    }
   ],
   "source": [
    "# чтобы это исправить? надо обнулить : можно занова запустить f = open('visit_log.csv', 'r')\n",
    " #  f.seek(0) - он вернет на указаный символ (не строчку) \n",
    "f.seek(0)"
   ]
  },
  {
   "cell_type": "code",
   "execution_count": 27,
   "metadata": {},
   "outputs": [
    {
     "data": {
      "text/plain": [
       "'user_id,source\\n'"
      ]
     },
     "execution_count": 27,
     "metadata": {},
     "output_type": "execute_result"
    }
   ],
   "source": [
    "f.readline() # вот эта \"0\" строчка. Если честно ерунда кака-та"
   ]
  },
  {
   "cell_type": "code",
   "execution_count": 28,
   "metadata": {},
   "outputs": [
    {
     "data": {
      "text/plain": [
       "'6450655'"
      ]
     },
     "execution_count": 28,
     "metadata": {},
     "output_type": "execute_result"
    }
   ],
   "source": [
    "f.readline(7) # вот эта \"0\" строчка."
   ]
  },
  {
   "cell_type": "code",
   "execution_count": 41,
   "metadata": {},
   "outputs": [],
   "source": [
    " # в общем лучше через запуск файла \n",
    "f = open('visit_log.csv', 'r')"
   ]
  },
  {
   "cell_type": "code",
   "execution_count": 35,
   "metadata": {},
   "outputs": [
    {
     "name": "stdout",
     "output_type": "stream",
     "text": [
      "71bcf169b4,other\n",
      "\n"
     ]
    }
   ],
   "source": [
    "for i in range(7):\n",
    "    line = f.readline()\n",
    "print(line)"
   ]
  },
  {
   "cell_type": "code",
   "execution_count": 36,
   "metadata": {},
   "outputs": [],
   "source": [
    "# прочитать все содержимое файла в переменную content\n",
    "content = f.readlines()"
   ]
  },
  {
   "cell_type": "code",
   "execution_count": 37,
   "metadata": {},
   "outputs": [
    {
     "data": {
      "text/plain": [
       "['e0aee73c5d,other\\n',\n",
       " '1f8845e157,context\\n',\n",
       " '78d22c5c78,other\\n',\n",
       " 'dd85040770,other\\n',\n",
       " '2301051b25,other\\n']"
      ]
     },
     "execution_count": 37,
     "metadata": {},
     "output_type": "execute_result"
    }
   ],
   "source": [
    "content[:5]"
   ]
  },
  {
   "cell_type": "code",
   "execution_count": 22,
   "metadata": {},
   "outputs": [
    {
     "name": "stdout",
     "output_type": "stream",
     "text": [
      "ddd\n",
      "rrr\n"
     ]
    }
   ],
   "source": [
    "# \\n - перенос на следующую строку\n",
    "print('ddd\\nrrr')"
   ]
  },
  {
   "cell_type": "code",
   "execution_count": 38,
   "metadata": {},
   "outputs": [
    {
     "name": "stdout",
     "output_type": "stream",
     "text": [
      "ddd\trrr\n"
     ]
    }
   ],
   "source": [
    "# \\t- разделитель табуляция\n",
    "print(\"ddd\\trrr\")"
   ]
  },
  {
   "cell_type": "code",
   "execution_count": 1,
   "metadata": {},
   "outputs": [
    {
     "ename": "NameError",
     "evalue": "name 'f' is not defined",
     "output_type": "error",
     "traceback": [
      "\u001b[0;31m---------------------------------------------------------------------------\u001b[0m",
      "\u001b[0;31mNameError\u001b[0m                                 Traceback (most recent call last)",
      "\u001b[0;32m<ipython-input-1-2c4b6396a6a1>\u001b[0m in \u001b[0;36m<module>\u001b[0;34m\u001b[0m\n\u001b[0;32m----> 1\u001b[0;31m \u001b[0;32mfor\u001b[0m \u001b[0mline\u001b[0m \u001b[0;32min\u001b[0m \u001b[0mf\u001b[0m\u001b[0;34m:\u001b[0m\u001b[0;34m\u001b[0m\u001b[0;34m\u001b[0m\u001b[0m\n\u001b[0m\u001b[1;32m      2\u001b[0m     \u001b[0mprint\u001b[0m\u001b[0;34m(\u001b[0m\u001b[0mline\u001b[0m\u001b[0;34m)\u001b[0m\u001b[0;34m\u001b[0m\u001b[0;34m\u001b[0m\u001b[0m\n\u001b[1;32m      3\u001b[0m  \u001b[0;31m# из-за /n между строчками получается пустое  расстояние, которое мешает в работе !\u001b[0m\u001b[0;34m\u001b[0m\u001b[0;34m\u001b[0m\u001b[0;34m\u001b[0m\u001b[0m\n\u001b[1;32m      4\u001b[0m     \u001b[0;32mbreak\u001b[0m\u001b[0;34m\u001b[0m\u001b[0;34m\u001b[0m\u001b[0m\n",
      "\u001b[0;31mNameError\u001b[0m: name 'f' is not defined"
     ]
    }
   ],
   "source": [
    "for line in f:\n",
    "    print(line)\n",
    " # из-за /n между строчками получается пустое  расстояние, которое мешает в работе !  \n",
    "    break"
   ]
  },
  {
   "cell_type": "markdown",
   "metadata": {},
   "source": [
    "Часто используется конструкция \n",
    "```python\n",
    "another_line.strip().split(',')\n",
    "```"
   ]
  },
  {
   "cell_type": "code",
   "execution_count": 43,
   "metadata": {},
   "outputs": [
    {
     "data": {
      "text/plain": [
       "'d16dcf49cd,email\\n'"
      ]
     },
     "execution_count": 43,
     "metadata": {},
     "output_type": "execute_result"
    }
   ],
   "source": [
    "another_line = f.readline()\n",
    "another_line\n",
    "\n",
    "#\\n вот нам не нужен "
   ]
  },
  {
   "cell_type": "code",
   "execution_count": 44,
   "metadata": {},
   "outputs": [
    {
     "name": "stdout",
     "output_type": "stream",
     "text": [
      "Перенос \n",
      "строки\n"
     ]
    }
   ],
   "source": [
    "print('Перенос \\nстроки')"
   ]
  },
  {
   "cell_type": "code",
   "execution_count": 45,
   "metadata": {},
   "outputs": [
    {
     "data": {
      "text/plain": [
       "'d16dcf49cd,email'"
      ]
     },
     "execution_count": 45,
     "metadata": {},
     "output_type": "execute_result"
    }
   ],
   "source": [
    "# удаляем перенос строки и лишние пробелы. Красота убрали \\n\n",
    "another_line.strip()"
   ]
  },
  {
   "cell_type": "code",
   "execution_count": 68,
   "metadata": {},
   "outputs": [
    {
     "data": {
      "text/plain": [
       "'6450655ae8,other'"
      ]
     },
     "execution_count": 68,
     "metadata": {},
     "output_type": "execute_result"
    }
   ],
   "source": [
    "#в можно указать все что надо удалить.\n",
    "#Например \"3\"- это означает? что будет убирать элемента и с начала и с конца пока не наткнется на другой элемент\n",
    "#, и пробел \n",
    "'333  6450655ae8,other  333'.strip(' 3')\n"
   ]
  },
  {
   "cell_type": "code",
   "execution_count": 69,
   "metadata": {},
   "outputs": [
    {
     "data": {
      "text/plain": [
       "'6450655ae8,other'"
      ]
     },
     "execution_count": 69,
     "metadata": {},
     "output_type": "execute_result"
    }
   ],
   "source": [
    "# здесь 3 с разного конца разное кол-во , а результат одинаковый\n",
    "#Например \"3\"- это означает? что будет убирать элемента и с начала и с конца пока не наткнется на другой элемент\n",
    "# и пробел \n",
    "'33  6450655ae8,other  333'.strip(' 3')\n"
   ]
  },
  {
   "cell_type": "code",
   "execution_count": 48,
   "metadata": {},
   "outputs": [
    {
     "data": {
      "text/plain": [
       "['d16dcf49cd', 'email']"
      ]
     },
     "execution_count": 48,
     "metadata": {},
     "output_type": "execute_result"
    }
   ],
   "source": [
    "# разбиваем столбцы в список без лишних символов и пробелов\n",
    "another_line.strip().split(',')"
   ]
  },
  {
   "cell_type": "code",
   "execution_count": 55,
   "metadata": {},
   "outputs": [
    {
     "data": {
      "text/plain": [
       "['6450655ae8', 'other']"
      ]
     },
     "execution_count": 55,
     "metadata": {},
     "output_type": "execute_result"
    }
   ],
   "source": [
    "'6450655ae8,other'.split(',')"
   ]
  },
  {
   "cell_type": "code",
   "execution_count": 57,
   "metadata": {},
   "outputs": [
    {
     "data": {
      "text/plain": [
       "'6450655ae8 other'"
      ]
     },
     "execution_count": 57,
     "metadata": {},
     "output_type": "execute_result"
    }
   ],
   "source": [
    "# \\t заменилась напробел \n",
    "'6450655ae8\\tother'.replace('\\t', ' ')"
   ]
  },
  {
   "cell_type": "code",
   "execution_count": 58,
   "metadata": {},
   "outputs": [
    {
     "data": {
      "text/plain": [
       "'6450655ae8,,other,123,,,,,лодло,'"
      ]
     },
     "execution_count": 58,
     "metadata": {},
     "output_type": "execute_result"
    }
   ],
   "source": [
    "'6450655ae8  other 123     лодло '.replace(' ', ',')"
   ]
  },
  {
   "cell_type": "code",
   "execution_count": 65,
   "metadata": {},
   "outputs": [
    {
     "data": {
      "text/plain": [
       "['6450655ae8', '', 'other', '123', '', '', '', '', 'лодло', '']"
      ]
     },
     "execution_count": 65,
     "metadata": {},
     "output_type": "execute_result"
    }
   ],
   "source": [
    "# попробуем избавиться от пробелов во-первых : создадим список\n",
    "list_ = '6450655ae8  other 123     лодло '.split(' ')\n",
    "list_"
   ]
  },
  {
   "cell_type": "code",
   "execution_count": 66,
   "metadata": {},
   "outputs": [
    {
     "data": {
      "text/plain": [
       "['6450655ae8', 'other', '123', 'лодло']"
      ]
     },
     "execution_count": 66,
     "metadata": {},
     "output_type": "execute_result"
    }
   ],
   "source": [
    "#во-вторых удалим пустые значения : \n",
    "[x for x in list_ if x != '']    "
   ]
  },
  {
   "cell_type": "code",
   "execution_count": 67,
   "metadata": {},
   "outputs": [
    {
     "data": {
      "text/plain": [
       "'6450655ae8 other 123 лодло'"
      ]
     },
     "execution_count": 67,
     "metadata": {},
     "output_type": "execute_result"
    }
   ],
   "source": [
    "# в третьих вернев к строке\n",
    "' '.join([x for x in list_ if x != ''])\n",
    "#   получится строка без пробелов! "
   ]
  },
  {
   "cell_type": "code",
   "execution_count": 60,
   "metadata": {},
   "outputs": [
    {
     "data": {
      "text/plain": [
       "'6450655ae8, other, 123, лодло'"
      ]
     },
     "execution_count": 60,
     "metadata": {},
     "output_type": "execute_result"
    }
   ],
   "source": [
    "# заменила пробелы на запятые\n",
    "'6450655ae8 other 123 лодло'.replace(' ', ', ')"
   ]
  },
  {
   "cell_type": "code",
   "execution_count": 61,
   "metadata": {},
   "outputs": [
    {
     "data": {
      "text/plain": [
       "['6450655ae8', 'other', '123', 'лодло']"
      ]
     },
     "execution_count": 61,
     "metadata": {},
     "output_type": "execute_result"
    }
   ],
   "source": [
    "'6450655ae8 other 123 лодло'.split(' ')"
   ]
  },
  {
   "cell_type": "code",
   "execution_count": 62,
   "metadata": {},
   "outputs": [
    {
     "data": {
      "text/plain": [
       "'6450655ae8\\tother\\t123'"
      ]
     },
     "execution_count": 62,
     "metadata": {},
     "output_type": "execute_result"
    }
   ],
   "source": [
    "'\\t'.join('6450655ae8 other 123 лодло'.split(' ')[:-1])\n",
    "# мы обратно возвращаемся к строке, в которой вместо пробела табуляция"
   ]
  },
  {
   "cell_type": "code",
   "execution_count": 51,
   "metadata": {},
   "outputs": [
    {
     "data": {
      "text/plain": [
       "['d16dcf49cd', 'email\\n']"
      ]
     },
     "execution_count": 51,
     "metadata": {},
     "output_type": "execute_result"
    }
   ],
   "source": [
    "another_line.split(',')"
   ]
  },
  {
   "cell_type": "code",
   "execution_count": null,
   "metadata": {},
   "outputs": [],
   "source": []
  },
  {
   "cell_type": "code",
   "execution_count": null,
   "metadata": {},
   "outputs": [],
   "source": []
  },
  {
   "cell_type": "code",
   "execution_count": null,
   "metadata": {},
   "outputs": [],
   "source": [
    "f.close()"
   ]
  },
  {
   "cell_type": "code",
   "execution_count": null,
   "metadata": {},
   "outputs": [],
   "source": [
    "# после закрытия не получится прочитать\n",
    "f.readline()"
   ]
  },
  {
   "cell_type": "code",
   "execution_count": null,
   "metadata": {},
   "outputs": [],
   "source": [
    "# прочитать все строчки файла\n",
    "f = open('visit_log.csv', 'r')\n",
    "\n",
    "content = f.readlines()\n",
    "\n",
    "f.close()"
   ]
  },
  {
   "cell_type": "code",
   "execution_count": null,
   "metadata": {},
   "outputs": [],
   "source": [
    "content[:5]"
   ]
  },
  {
   "cell_type": "markdown",
   "metadata": {},
   "source": [
    "### Упражнение\n",
    "Напишите функцию (или просто код), который возвращает список из первых N строк файла purchase_log.csv без записи всего содержимого файла в оперативную память."
   ]
  },
  {
   "cell_type": "code",
   "execution_count": 2,
   "metadata": {},
   "outputs": [
    {
     "name": "stdout",
     "output_type": "stream",
     "text": [
      "user_id,source\n",
      "6450655ae8,other\n",
      "b4ea53e670,other\n"
     ]
    }
   ],
   "source": [
    "f = open('visit_log.csv', 'r')\n",
    "n_strok = 3\n",
    "for key in range(n_strok):\n",
    "    content = f.readline()\n",
    "    print(content.strip())\n",
    "    if key >= n_strok - 1:\n",
    "        break\n",
    "f.close()\n"
   ]
  },
  {
   "cell_type": "code",
   "execution_count": 2,
   "metadata": {},
   "outputs": [
    {
     "name": "stdout",
     "output_type": "stream",
     "text": [
      "user_id,source\n",
      "6450655ae8,other\n",
      "b4ea53e670,other\n",
      "0e37347152,other\n",
      "96064ae9e0,other\n"
     ]
    }
   ],
   "source": [
    "def read_n (n):\n",
    "    f = open('visit_log.csv', 'r')\n",
    "    for i in range(n):\n",
    "        print(f.readline().strip())\n",
    "      \n",
    "read_n(5)        "
   ]
  },
  {
   "cell_type": "code",
   "execution_count": 6,
   "metadata": {},
   "outputs": [
    {
     "name": "stdout",
     "output_type": "stream",
     "text": [
      "6450655ae8,other\n",
      "b4ea53e670,other\n",
      "0e37347152,other\n",
      "96064ae9e0,other\n",
      "e1bd168161,context\n"
     ]
    }
   ],
   "source": [
    "# как убрать заголовок \n",
    "def read_n (n):\n",
    "    f = open('visit_log.csv', 'r')\n",
    "    f.readline()# просто в холостую открыли одну строчку\n",
    "    \n",
    "    for i in range(n):\n",
    "        print(f.readline().strip())\n",
    "read_n(5)        "
   ]
  },
  {
   "cell_type": "code",
   "execution_count": 7,
   "metadata": {},
   "outputs": [
    {
     "name": "stdout",
     "output_type": "stream",
     "text": [
      "6450655ae8,other\n",
      "b4ea53e670,other\n",
      "0e37347152,other\n",
      "96064ae9e0,other\n",
      "e1bd168161,context\n"
     ]
    }
   ],
   "source": [
    "def read_n (n):\n",
    "    f = open('visit_log.csv', 'r')\n",
    "#тоже нет первой строчки\n",
    "    next(f)\n",
    "    \n",
    "    for i in range(n):\n",
    "        print(f.readline().strip())\n",
    "read_n(5)        "
   ]
  },
  {
   "cell_type": "code",
   "execution_count": 12,
   "metadata": {},
   "outputs": [
    {
     "name": "stdout",
     "output_type": "stream",
     "text": [
      "6450655ae8,other\n",
      "b4ea53e670,other\n",
      "0e37347152,other\n",
      "96064ae9e0,other\n",
      "e1bd168161,context\n"
     ]
    }
   ],
   "source": [
    "def read_n (n, include_header = False):\n",
    "    f = open('visit_log.csv', 'r')\n",
    "\n",
    "# первая строка хрень поэтому рассматриваем сразу next\n",
    "    if include_header ==False:\n",
    "        next(f)\n",
    "        \n",
    " # для последующий строчек уже выполняем задание    \n",
    "    for i in  range(n):\n",
    "        print(f.readline().strip())\n",
    "read_n(5)\n",
    "#read_n(5, include_heder = True)        "
   ]
  },
  {
   "cell_type": "code",
   "execution_count": 10,
   "metadata": {},
   "outputs": [
    {
     "name": "stdout",
     "output_type": "stream",
     "text": [
      "user_id,source\n",
      "6450655ae8,other\n",
      "b4ea53e670,other\n",
      "0e37347152,other\n",
      "96064ae9e0,other\n"
     ]
    }
   ],
   "source": [
    "def read_n (n, include_header = False):\n",
    "    f = open('visit_log.csv', 'r')\n",
    "    \n",
    "    if include_header ==False: # Это равно if not include_header\n",
    "        next(f)\n",
    "        \n",
    "    for i in  range(n):\n",
    "        print(f.readline().strip())\n",
    "#read_n(5)\n",
    "read_n(5, include_header = True)        "
   ]
  },
  {
   "cell_type": "markdown",
   "metadata": {},
   "source": [
    "### Зачем все так сложно?\n",
    "Начинаем запись в файл"
   ]
  },
  {
   "cell_type": "code",
   "execution_count": null,
   "metadata": {},
   "outputs": [],
   "source": []
  },
  {
   "cell_type": "code",
   "execution_count": null,
   "metadata": {},
   "outputs": [],
   "source": [
    "f = open('results.csv', 'w')"
   ]
  },
  {
   "cell_type": "code",
   "execution_count": null,
   "metadata": {},
   "outputs": [],
   "source": [
    "f.write('Начинаю запись первой строки...\\n')"
   ]
  },
  {
   "cell_type": "code",
   "execution_count": null,
   "metadata": {},
   "outputs": [],
   "source": [
    "f.write('Начинаю запись второй строки...\\n')"
   ]
  },
  {
   "cell_type": "markdown",
   "metadata": {},
   "source": [
    "Здесь кто-то еще хочет в него записать"
   ]
  },
  {
   "cell_type": "code",
   "execution_count": null,
   "metadata": {},
   "outputs": [],
   "source": [
    "my_friend_results = open('results.csv', 'w')"
   ]
  },
  {
   "cell_type": "code",
   "execution_count": null,
   "metadata": {},
   "outputs": [],
   "source": [
    "my_friend_results.write('Тут еще результаты есть')"
   ]
  },
  {
   "cell_type": "code",
   "execution_count": null,
   "metadata": {},
   "outputs": [],
   "source": [
    "# пишем свой результат\n",
    "f.close()"
   ]
  },
  {
   "cell_type": "code",
   "execution_count": null,
   "metadata": {},
   "outputs": [],
   "source": [
    "# и наш результат перезатирается\n",
    "my_friend_results.close()"
   ]
  },
  {
   "cell_type": "markdown",
   "metadata": {},
   "source": [
    "### Контекстный менеджер\n",
    "Как обезопасить себя от подобных накладок"
   ]
  },
  {
   "cell_type": "code",
   "execution_count": null,
   "metadata": {},
   "outputs": [],
   "source": [
    "# with open('results.csv', 'w') as f как только мы написали вот такую комбинацию, наш файл закрыт для другой записи.\n",
    "with open('results.csv', 'w') as f:\n",
    "    f.write('Начинаю запись первой строки...\\n')\n",
    "    f.write('Начинаю запись второй строки...\\n')\n",
    "    \n",
    "    my_friend_results = open('results.csv', 'w')\n",
    "    my_friend_results.write('Тут еще результаты есть')\n",
    "    my_friend_results.close()\n",
    "print()\n",
    "# функция - with open- работает в пределах отступа . т. е. в данном случае до принта"
   ]
  },
  {
   "cell_type": "markdown",
   "metadata": {},
   "source": [
    "### Упражнение\n",
    "Напишите функцию, которая фильтрует файл visit_log.csv по источнику context и пишет результат в visits_context.csv. Используйте функцию из второго упражнения для проверки результата."
   ]
  },
  {
   "cell_type": "code",
   "execution_count": null,
   "metadata": {},
   "outputs": [],
   "source": []
  },
  {
   "cell_type": "code",
   "execution_count": null,
   "metadata": {},
   "outputs": [],
   "source": []
  },
  {
   "cell_type": "code",
   "execution_count": null,
   "metadata": {},
   "outputs": [],
   "source": []
  },
  {
   "cell_type": "markdown",
   "metadata": {},
   "source": [
    "# Чтение списков и словарей из файла\n",
    "Смотрим что в файле purchase_log.txt. Похоже тут не строки, а словари"
   ]
  },
  {
   "cell_type": "code",
   "execution_count": 13,
   "metadata": {},
   "outputs": [
    {
     "name": "stdout",
     "output_type": "stream",
     "text": [
      "['{\"user_id\": \"user_id\", \"category\": \"category\"}\\n', '{\"user_id\": \"1840e0b9d4\", \"category\": \"Продукты\"}\\n', '{\"user_id\": \"4e4f90fcfb\", \"category\": \"Электроника\"}\\n', '{\"user_id\": \"afea8d72fc\", \"category\": \"Электроника\"}\\n', '{\"user_id\": \"373a6055fe\", \"category\": \"Бытовая техника\"}\\n']\n"
     ]
    }
   ],
   "source": [
    "with open('purchase_log.txt') as f:\n",
    "    print([next(f) for x in range(5)])\n",
    "    \n",
    "# для виндуаса может \"поплыть\" кодировка применяем код - ('purchase_log.txt', encoding='utf-8')такое в скобках пишем"
   ]
  },
  {
   "cell_type": "code",
   "execution_count": 14,
   "metadata": {},
   "outputs": [],
   "source": [
    "import json"
   ]
  },
  {
   "cell_type": "code",
   "execution_count": 15,
   "metadata": {},
   "outputs": [
    {
     "data": {
      "text/plain": [
       "dict"
      ]
     },
     "execution_count": 15,
     "metadata": {},
     "output_type": "execute_result"
    }
   ],
   "source": [
    "# перевод строки в словарь\n",
    "dict_in_string = '{\"a\": 1, \"b\": 2}'\n",
    "\n",
    "type(json.loads(dict_in_string))"
   ]
  },
  {
   "cell_type": "code",
   "execution_count": 16,
   "metadata": {},
   "outputs": [
    {
     "data": {
      "text/plain": [
       "{'a': 1, 'b': 2}"
      ]
     },
     "execution_count": 16,
     "metadata": {},
     "output_type": "execute_result"
    }
   ],
   "source": [
    " # строки в словаре превратились в словарь  \n",
    "json.loads(dict_in_string)"
   ]
  },
  {
   "cell_type": "code",
   "execution_count": null,
   "metadata": {},
   "outputs": [],
   "source": [
    "# тоже переводит строки в словарь, но в файле может быть все что угодно, и если там коамнда на очистку данных, то оа выполнит.\n",
    "# лучше ее не использовать\n",
    "eval()"
   ]
  },
  {
   "cell_type": "code",
   "execution_count": 17,
   "metadata": {},
   "outputs": [
    {
     "data": {
      "text/plain": [
       "dict_values([1, 2])"
      ]
     },
     "execution_count": 17,
     "metadata": {},
     "output_type": "execute_result"
    }
   ],
   "source": [
    "json.loads(dict_in_string).values()"
   ]
  },
  {
   "cell_type": "code",
   "execution_count": null,
   "metadata": {},
   "outputs": [],
   "source": []
  },
  {
   "cell_type": "code",
   "execution_count": 18,
   "metadata": {},
   "outputs": [
    {
     "data": {
      "text/plain": [
       "3"
      ]
     },
     "execution_count": 18,
     "metadata": {},
     "output_type": "execute_result"
    }
   ],
   "source": [
    "# перевод строки в список и взяли последний элемент \n",
    "list_in_string = '[1, 2, 3]'\n",
    "\n",
    "json.loads(list_in_string)[-1]"
   ]
  },
  {
   "cell_type": "code",
   "execution_count": 19,
   "metadata": {},
   "outputs": [
    {
     "name": "stdout",
     "output_type": "stream",
     "text": [
      "{'user_id': 'user_id', 'category': 'category'} <class 'dict'>\n",
      "{'user_id': '1840e0b9d4', 'category': 'Продукты'} <class 'dict'>\n",
      "{'user_id': '4e4f90fcfb', 'category': 'Электроника'} <class 'dict'>\n",
      "{'user_id': 'afea8d72fc', 'category': 'Электроника'} <class 'dict'>\n",
      "{'user_id': '373a6055fe', 'category': 'Бытовая техника'} <class 'dict'>\n",
      "{'user_id': '9b2ab046f3', 'category': 'Электроника'} <class 'dict'>\n"
     ]
    }
   ],
   "source": [
    "i = 0\n",
    "with open('purchase_log.txt') as f:\n",
    "    for line in f:\n",
    "        line = line.strip()\n",
    "        \n",
    "        dict_ = json.loads(line)\n",
    "        print(dict_, type(dict_))\n",
    "        \n",
    "        i += 1\n",
    "        if i > 5:\n",
    "            break"
   ]
  },
  {
   "cell_type": "markdown",
   "metadata": {},
   "source": [
    "### Упражнение\n",
    "1. Посчитайте распределение количества покупок по категориям в столбце category\n",
    "2. Составьте словарь, в котором для каждого user_id значением будет название категории"
   ]
  },
  {
   "cell_type": "code",
   "execution_count": null,
   "metadata": {},
   "outputs": [],
   "source": []
  },
  {
   "cell_type": "code",
   "execution_count": null,
   "metadata": {},
   "outputs": [],
   "source": []
  },
  {
   "cell_type": "code",
   "execution_count": null,
   "metadata": {},
   "outputs": [],
   "source": []
  },
  {
   "cell_type": "markdown",
   "metadata": {},
   "source": [
    "### Из словаря в строку тоже можно"
   ]
  },
  {
   "cell_type": "code",
   "execution_count": 20,
   "metadata": {},
   "outputs": [],
   "source": [
    "data = {'user_id': '1840e0b9d4', 'category': 'Продукты'}"
   ]
  },
  {
   "cell_type": "code",
   "execution_count": 21,
   "metadata": {},
   "outputs": [
    {
     "data": {
      "text/plain": [
       "'{\"user_id\": \"1840e0b9d4\", \"category\": \"\\\\u041f\\\\u0440\\\\u043e\\\\u0434\\\\u0443\\\\u043a\\\\u0442\\\\u044b\"}'"
      ]
     },
     "execution_count": 21,
     "metadata": {},
     "output_type": "execute_result"
    }
   ],
   "source": [
    "json.dumps(data)\n",
    "# если видим такую ерунду надо поменять кодировку ! ОГО"
   ]
  },
  {
   "cell_type": "code",
   "execution_count": 22,
   "metadata": {},
   "outputs": [
    {
     "data": {
      "text/plain": [
       "str"
      ]
     },
     "execution_count": 22,
     "metadata": {},
     "output_type": "execute_result"
    }
   ],
   "source": [
    "type(json.dumps(data))"
   ]
  },
  {
   "cell_type": "markdown",
   "metadata": {},
   "source": [
    "# Модуль pickle\n",
    "Запись объекта сразу в файл как поток байтов"
   ]
  },
  {
   "cell_type": "code",
   "execution_count": 23,
   "metadata": {},
   "outputs": [],
   "source": [
    "import pickle"
   ]
  },
  {
   "cell_type": "code",
   "execution_count": 24,
   "metadata": {},
   "outputs": [],
   "source": [
    "data = {'user_id': '1840e0b9d4', 'category': 'Продукты'}"
   ]
  },
  {
   "cell_type": "code",
   "execution_count": 26,
   "metadata": {},
   "outputs": [],
   "source": [
    "# w- мы хотим записать, b- запись будет ввиде байтов (0 и 1)\n",
    "with open('data.pickle', 'wb') as f:\n",
    "    pickle.dump(data, f)\n",
    "    \n",
    "#  я хочу записать (pickle.dump - это команда об этом говорит), объект data в файл f "
   ]
  },
  {
   "cell_type": "code",
   "execution_count": 27,
   "metadata": {},
   "outputs": [
    {
     "data": {
      "text/plain": [
       "({'user_id': '1840e0b9d4', 'category': 'Продукты'}, '1840e0b9d4')"
      ]
     },
     "execution_count": 27,
     "metadata": {},
     "output_type": "execute_result"
    }
   ],
   "source": [
    "# прочитать объект из такого файла. \n",
    "# 'rb' - мы показываем что читаем поток байтов \n",
    "\n",
    "with open('data.pickle', 'rb') as f:\n",
    "    dict_ = pickle.load(f)\n",
    "    \n",
    "# pickle.load - преобразует байтовый файл в понятный для питона файл \n",
    "    \n",
    "dict_, dict_['user_id']"
   ]
  },
  {
   "cell_type": "markdown",
   "metadata": {},
   "source": [
    "### Упражнение\n",
    "В файле payments_stat.pickle записана некая статистика платежей пользователей. Посчитайте среднее значение платежа."
   ]
  },
  {
   "cell_type": "code",
   "execution_count": null,
   "metadata": {},
   "outputs": [],
   "source": []
  },
  {
   "cell_type": "code",
   "execution_count": null,
   "metadata": {},
   "outputs": [],
   "source": []
  },
  {
   "cell_type": "code",
   "execution_count": null,
   "metadata": {},
   "outputs": [],
   "source": []
  },
  {
   "cell_type": "markdown",
   "metadata": {},
   "source": [
    "# Каталог пакетов pip (Python Package Index)\n",
    "Варианты установки\n",
    "1. С помощью Anaconda Navigator\n",
    "2. В командной строке (Terminal на маке)\n",
    "```bash\n",
    "pip install package_name\n",
    "```\n",
    "3. Скачать версию с github и установить вручную\n",
    "```bash\n",
    "pip install .\n",
    "```\n",
    "\n",
    "Пакеты устанавливаются в определенное окружение! Вам пригодится virtualenv"
   ]
  },
  {
   "cell_type": "code",
   "execution_count": 29,
   "metadata": {},
   "outputs": [
    {
     "name": "stdout",
     "output_type": "stream",
     "text": [
      "Requirement already satisfied: pyyaml in /Users/nadirasatt/opt/anaconda3/lib/python3.7/site-packages (5.1.2)\r\n"
     ]
    }
   ],
   "source": [
    "# ! означает команду отправляем в командную строку\n",
    "!pip install pyyaml"
   ]
  },
  {
   "cell_type": "code",
   "execution_count": 1,
   "metadata": {},
   "outputs": [],
   "source": [
    "import plotly\n",
    "\n",
    "# я не смогла так найти этот пакет ( через Аnacond)\n",
    "\n",
    "# поэтому сначало сделала- !pip install plotly - а потом import plotly\n",
    "#вот после этого вроде сработало"
   ]
  },
  {
   "cell_type": "code",
   "execution_count": 31,
   "metadata": {},
   "outputs": [
    {
     "name": "stdout",
     "output_type": "stream",
     "text": [
      "Collecting plotly\n",
      "\u001b[?25l  Downloading https://files.pythonhosted.org/packages/8e/ce/6ea5683c47b682bffad39ad41d10913141b560b1b875a90dbc6abe3f4fa9/plotly-4.4.1-py2.py3-none-any.whl (7.3MB)\n",
      "\u001b[K     |████████████████████████████████| 7.3MB 2.6MB/s eta 0:00:01\n",
      "\u001b[?25hCollecting retrying>=1.3.3 (from plotly)\n",
      "  Downloading https://files.pythonhosted.org/packages/44/ef/beae4b4ef80902f22e3af073397f079c96969c69b2c7d52a57ea9ae61c9d/retrying-1.3.3.tar.gz\n",
      "Requirement already satisfied: six in /Users/nadirasatt/opt/anaconda3/lib/python3.7/site-packages (from plotly) (1.12.0)\n",
      "Building wheels for collected packages: retrying\n",
      "  Building wheel for retrying (setup.py) ... \u001b[?25ldone\n",
      "\u001b[?25h  Created wheel for retrying: filename=retrying-1.3.3-cp37-none-any.whl size=11429 sha256=75bb35f6048553c44c45191bda76292f1f0dd1e6bc1f8f6e3be87c58bbc8ebc9\n",
      "  Stored in directory: /Users/nadirasatt/Library/Caches/pip/wheels/d7/a9/33/acc7b709e2a35caa7d4cae442f6fe6fbf2c43f80823d46460c\n",
      "Successfully built retrying\n",
      "Installing collected packages: retrying, plotly\n",
      "Successfully installed plotly-4.4.1 retrying-1.3.3\n"
     ]
    }
   ],
   "source": [
    "!pip install plotly"
   ]
  },
  {
   "cell_type": "code",
   "execution_count": null,
   "metadata": {},
   "outputs": [],
   "source": []
  },
  {
   "cell_type": "markdown",
   "metadata": {},
   "source": [
    "# Простой импорт"
   ]
  },
  {
   "cell_type": "code",
   "execution_count": 32,
   "metadata": {},
   "outputs": [
    {
     "data": {
      "text/plain": [
       "['/Users/nadirasatt/Desktop/Python_hw/lecture/Новая папка',\n",
       " '/Users/nadirasatt/opt/anaconda3/lib/python37.zip',\n",
       " '/Users/nadirasatt/opt/anaconda3/lib/python3.7',\n",
       " '/Users/nadirasatt/opt/anaconda3/lib/python3.7/lib-dynload',\n",
       " '',\n",
       " '/Users/nadirasatt/opt/anaconda3/lib/python3.7/site-packages',\n",
       " '/Users/nadirasatt/opt/anaconda3/lib/python3.7/site-packages/aeosa',\n",
       " '/Users/nadirasatt/opt/anaconda3/lib/python3.7/site-packages/IPython/extensions',\n",
       " '/Users/nadirasatt/.ipython']"
      ]
     },
     "execution_count": 32,
     "metadata": {},
     "output_type": "execute_result"
    }
   ],
   "source": [
    "import sys\n",
    "sys.path # смотри в этих папаках есть клевые библиотеки"
   ]
  },
  {
   "cell_type": "code",
   "execution_count": null,
   "metadata": {},
   "outputs": [],
   "source": [
    "# добавляем в список библиотек папку libs\n",
    "sys.path.append('libs') # в () пишем путь к своей библиотеке.\n",
    "# если в этой же папке, то достоточно название папки \n",
    "sys.path"
   ]
  },
  {
   "cell_type": "code",
   "execution_count": null,
   "metadata": {},
   "outputs": [],
   "source": [
    "from useful_codes import CATEGORIES"
   ]
  },
  {
   "cell_type": "code",
   "execution_count": null,
   "metadata": {},
   "outputs": [],
   "source": [
    "CATEGORIES"
   ]
  },
  {
   "cell_type": "code",
   "execution_count": null,
   "metadata": {},
   "outputs": [],
   "source": [
    "from useful_codes import word_count"
   ]
  },
  {
   "cell_type": "code",
   "execution_count": null,
   "metadata": {},
   "outputs": [],
   "source": [
    "# посмотреть документацию функции\n",
    "\n",
    "?word_count"
   ]
  },
  {
   "cell_type": "code",
   "execution_count": null,
   "metadata": {},
   "outputs": [],
   "source": [
    "word_count('Посчитай количество слов в тексте')"
   ]
  },
  {
   "cell_type": "markdown",
   "metadata": {},
   "source": [
    "# Домашнее задание\n",
    "1. Переведите содержимое файла purchase_log.txt в словарь purchases вида:\n",
    "```python\n",
    "{'1840e0b9d4': 'Продукты', ...}\n",
    "```\n",
    "\n",
    "2. Для каждого user_id в файле visit_log.csv добавьте третий столбец с категорией покупки (если покупка была).\n",
    "\n",
    "3. Запишите в файл funnel.csv визиты из файла visit_log.csv, в которых были покупки с указанием категории.\n",
    "\n",
    "Учтите условия на данные:\n",
    "- содержимое purchase_log.txt помещается в оперативную память компьютера\n",
    "- содержимое visit_log.csv - нет; используйте только построчную обработку этого файла"
   ]
  },
  {
   "cell_type": "code",
   "execution_count": 3,
   "metadata": {},
   "outputs": [
    {
     "name": "stdout",
     "output_type": "stream",
     "text": [
      "{\"user_id\": \"1840e0b9d4\", \"category\": \"Продукты\"}\n",
      "{\"user_id\": \"4e4f90fcfb\", \"category\": \"Электроника\"}\n",
      "{\"user_id\": \"afea8d72fc\", \"category\": \"Электроника\"}\n",
      "{\"user_id\": \"373a6055fe\", \"category\": \"Бытовая техника\"}\n",
      "{\"user_id\": \"9b2ab046f3\", \"category\": \"Электроника\"}\n"
     ]
    }
   ],
   "source": [
    "def read_n(n):\n",
    "    x = 0\n",
    "    f = open('purchase_log.txt', 'r')\n",
    "    f.readline()\n",
    "    \n",
    "    for i in range(n):\n",
    "        \n",
    "        print(f.readline().strip())\n",
    "        \n",
    "read_n(5)\n"
   ]
  },
  {
   "cell_type": "code",
   "execution_count": 18,
   "metadata": {},
   "outputs": [
    {
     "name": "stdout",
     "output_type": "stream",
     "text": [
      "{\"user_id\": \"1840e0b9d4\", \"category\": \"Продукты\"}\n",
      "\n",
      "{\"user_id\": \"4e4f90fcfb\", \"category\": \"Электроника\"}\n",
      "\n",
      "{\"user_id\": \"afea8d72fc\", \"category\": \"Электроника\"}\n",
      "\n",
      "{\"user_id\": \"373a6055fe\", \"category\": \"Бытовая техника\"}\n",
      "\n",
      "{\"user_id\": \"9b2ab046f3\", \"category\": \"Электроника\"}\n",
      "\n"
     ]
    }
   ],
   "source": [
    "def read_n(n):\n",
    "    x = 0\n",
    "    f = open('purchase_log.txt', 'r')\n",
    "    f.readline()\n",
    "    \n",
    "    for i in range(n):\n",
    "       \n",
    "        print(f.readline())\n",
    "        \n",
    "read_n(5)\n"
   ]
  },
  {
   "cell_type": "code",
   "execution_count": 2,
   "metadata": {},
   "outputs": [],
   "source": [
    "import json"
   ]
  },
  {
   "cell_type": "code",
   "execution_count": 3,
   "metadata": {},
   "outputs": [
    {
     "ename": "SyntaxError",
     "evalue": "unexpected EOF while parsing (<ipython-input-3-cda4e828822d>, line 13)",
     "output_type": "error",
     "traceback": [
      "\u001b[0;36m  File \u001b[0;32m\"<ipython-input-3-cda4e828822d>\"\u001b[0;36m, line \u001b[0;32m13\u001b[0m\n\u001b[0;31m    \u001b[0m\n\u001b[0m    ^\u001b[0m\n\u001b[0;31mSyntaxError\u001b[0m\u001b[0;31m:\u001b[0m unexpected EOF while parsing\n"
     ]
    }
   ],
   "source": [
    "def read_n(n):\n",
    "\n",
    "    f = open('purchase_log.txt', 'r')\n",
    "    f.readline()\n",
    "    \n",
    "    for i in range(n):\n",
    "        line_txt = f.readline().strip() \n",
    "        #print(json.loads(line_txt)['user_id'])\n",
    "        x = json.loads(line_txt)['user_id']\n",
    "        print(x)\n",
    "        for user in f.readline():\n",
    "        \n",
    "\n"
   ]
  },
  {
   "cell_type": "code",
   "execution_count": 4,
   "metadata": {},
   "outputs": [
    {
     "ename": "NameError",
     "evalue": "name 'read_n' is not defined",
     "output_type": "error",
     "traceback": [
      "\u001b[0;31m---------------------------------------------------------------------------\u001b[0m",
      "\u001b[0;31mNameError\u001b[0m                                 Traceback (most recent call last)",
      "\u001b[0;32m<ipython-input-4-7e3a3f049443>\u001b[0m in \u001b[0;36m<module>\u001b[0;34m\u001b[0m\n\u001b[0;32m----> 1\u001b[0;31m \u001b[0mread_n\u001b[0m\u001b[0;34m(\u001b[0m\u001b[0;36m5\u001b[0m\u001b[0;34m)\u001b[0m\u001b[0;34m\u001b[0m\u001b[0;34m\u001b[0m\u001b[0m\n\u001b[0m",
      "\u001b[0;31mNameError\u001b[0m: name 'read_n' is not defined"
     ]
    }
   ],
   "source": [
    "read_n(5)\n"
   ]
  },
  {
   "cell_type": "code",
   "execution_count": 5,
   "metadata": {},
   "outputs": [
    {
     "name": "stdout",
     "output_type": "stream",
     "text": [
      "{\"user_id\": \"1840e0b9d4\", \"category\": \"Продукты\"}\n",
      "{\"user_id\": \"4e4f90fcfb\", \"category\": \"Электроника\"}\n",
      "{\"user_id\": \"afea8d72fc\", \"category\": \"Электроника\"}\n",
      "{\"user_id\": \"373a6055fe\", \"category\": \"Бытовая техника\"}\n",
      "{\"user_id\": \"9b2ab046f3\", \"category\": \"Электроника\"}\n"
     ]
    }
   ],
   "source": [
    "def read_n(n):\n",
    "    x = 0\n",
    "    f = open('purchase_log.txt', 'r')\n",
    "    f.readline()\n",
    "    \n",
    "    for i in range(n):\n",
    "        \n",
    "        print(f.readline().strip())\n",
    "        \n",
    "read_n(5)\n"
   ]
  },
  {
   "cell_type": "code",
   "execution_count": 6,
   "metadata": {},
   "outputs": [
    {
     "name": "stdout",
     "output_type": "stream",
     "text": [
      "{'user_id': '1840e0b9d4', 'category': 'Продукты'}\n",
      "1840e0b9d4\n",
      "{'Продукты'}\n"
     ]
    }
   ],
   "source": [
    "i = 0\n",
    "with open('purchase_log.txt') as f:\n",
    "    f.readline()\n",
    "    #line_txt = f.readline().strip() \n",
    "    #x = json.loads(line_txt)['user_id']\n",
    "    #print(x)\n",
    "    for line in f:\n",
    "        line = line.strip()\n",
    "        dict_ = json.loads(line)\n",
    "        print(dict_)\n",
    "        \n",
    "        prod = set()\n",
    "        x = dict_['user_id']\n",
    "        print(x)\n",
    "        #prod.intersection_update(dict_['category'])\n",
    "        prod.add(dict_['category'])\n",
    "        #print(prod)\n",
    "        \n",
    "        for line in f:\n",
    "            i = 0\n",
    "            if dict_['user_id'] == x:\n",
    "                y = dict_['category']\n",
    "                #print(y)\n",
    "                prod.union(y)\n",
    "            #i += 1\n",
    "            #if i > 5:\n",
    "                #break    \n",
    "            \n",
    "                \n",
    "        #i += 1\n",
    "        #if i > 5:\n",
    "            #break\n",
    "print(prod)"
   ]
  },
  {
   "cell_type": "code",
   "execution_count": 107,
   "metadata": {},
   "outputs": [
    {
     "name": "stdout",
     "output_type": "stream",
     "text": [
      "['1840e0b9d4', '4e4f90fcfb', 'afea8d72fc', '373a6055fe', '9b2ab046f3', '9f39d307c3', '44edeffc91', '704474fa2d', '1de31be403', 'b71f36a5e4', '79843a685a', 'ff68cee0d6', 'e8447c40e2', '98d290be27', 'fa0079a5a8', '22d2f03a17', '3f8e1ccd3f', '81a9988b83', '65f44a2eb7', '5f8fbb0149', '3ecff691fd', 'dd0e912251', '9250593d55', '37c4e090e4', '22fa3ea76f', '73b876b237', 'f983a69d67', '4ea17212f8', 'c6de96a5e2', 'd8e3bcee53', '680aa815f9', '4a92a68cf9', '905e60cb52', '393bcfb298', '06d450cc57', 'b60ce22f17', '6f159c4c2e', '564202f6bd', '1908683775', '8fd957a463', '72e0a3f1d0', '7f5f56e517', 'bc1a0a7e26', '17639fe89d', '74c9201f84', 'bc4ebda0df', 'fe4615dd15', 'd2c560746d', 'f0a93d52d2', 'fe52ded300', 'dbe70d84e4', 'f660dbcc3f', 'f93283c9ee', '66bea9bf58', '111c52d9bc', '16dc76e94d', '87f37b380c', '830421d975', '7d6c62f0a2', '77465a0b61', 'ee9eb52181', '871c1fa9ae', '03b91dba06', '6cb42b2632', '9ab8f3bbb8', '63df9ee9d3', '2ffd6c724d', 'af24cffd03', '421149bb9a', '24300c6d1c', '9ca11a651f', 'b7e640032f', '3691ad282b', '00ea2f7484', '6f198ac1c9', '0d479d4259', 'b461051101', 'd39a1d56c3', '316ab03143', '78ed39a415', '19d1e4e036', '9e765c6822', 'ddd50eaa45', 'c21b82499e', 'da79d9ff30', 'eded5c6792', 'e3654c7f1a', 'd20bf10c78', '12de58d8e6', 'de85ea0eb6', 'dfe6f4ebb4', '9d25ac3886', 'd47dd8b814', 'c5e1bf636a', 'a86e69db63', '91802f78b2', '152ea9bb42', '06569907e6', '9f5bf9b73f', 'ec11793734', '0cf6ee6c84']\n"
     ]
    }
   ],
   "source": [
    "#Переведите содержимое файла purchase_log.txt в словарь purchases вида:\n",
    "\n",
    "#       {'1840e0b9d4': 'Продукты', ...}\n",
    "\n",
    "i = 0\n",
    "id_prod = {}\n",
    "id_list = []\n",
    "\n",
    "with open('purchase_log.txt') as f:\n",
    "    f.readline()# убрали первую строчку\n",
    "   \n",
    "    for line in f:\n",
    "        line = line.strip()\n",
    "        dict_ = json.loads(line)\n",
    "        \n",
    "# создаем словарь с ключем и значением \n",
    "        id_prod[dict_['user_id']] = (dict_['category'])\n",
    "        \n",
    "    #создадим сразу список ключей для следующего задания\n",
    "        id_list.append(dict_['user_id'])    \n",
    "    \n",
    "        i += 1\n",
    "        if i > 100:\n",
    "            break\n",
    "# напечатаем в требуемом формате наши ID и покупку\n",
    "#print(id_prod)\n",
    "\n",
    "# список - всех ID для выполнения следующего задания\n",
    "print(id_list)"
   ]
  },
  {
   "cell_type": "code",
   "execution_count": 92,
   "metadata": {},
   "outputs": [
    {
     "ename": "SyntaxError",
     "evalue": "invalid syntax (<ipython-input-92-e948866478a8>, line 20)",
     "output_type": "error",
     "traceback": [
      "\u001b[0;36m  File \u001b[0;32m\"<ipython-input-92-e948866478a8>\"\u001b[0;36m, line \u001b[0;32m20\u001b[0m\n\u001b[0;31m    i += 1\u001b[0m\n\u001b[0m    ^\u001b[0m\n\u001b[0;31mSyntaxError\u001b[0m\u001b[0;31m:\u001b[0m invalid syntax\n"
     ]
    }
   ],
   "source": [
    "# Для каждого user_id в файле visit_log.csv добавьте третий столбец с категорией покупки (если покупка была).\n",
    "n = 200\n",
    "visit_prod = (0)\n",
    "s = ' '\n",
    "f_second = open('funnel.csv', 'w')\n",
    "\n",
    "with open('visit_log.csv','r') as f:\n",
    "    next(f)\n",
    "    for i in range(n):\n",
    "       \n",
    "        visit_prod = f.readline().strip().split(',')\n",
    "        \n",
    "        if visit_prod[0] in id_list:\n",
    "            visit_prod.append(id_prod[visit_prod[0]])\n",
    "            type(visit_prod)\n",
    "            \n",
    "            print(s.join(visit_prod))\n",
    "            f_second.write(s.join(visit_prod)   \n",
    "  \n",
    "        i += 1                    \n",
    "    f_second.close     \n",
    "print(f\"Больше совпадений нет\")\n",
    "        "
   ]
  },
  {
   "cell_type": "code",
   "execution_count": 112,
   "metadata": {},
   "outputs": [
    {
     "name": "stdout",
     "output_type": "stream",
     "text": [
      "1840e0b9d4 other Продукты\n",
      "4e4f90fcfb context Электроника\n",
      "afea8d72fc other Электроника\n",
      "373a6055fe other Бытовая техника\n",
      "9b2ab046f3 other Электроника\n",
      "9f39d307c3 context Электроника\n",
      "44edeffc91 context Продукты\n",
      "704474fa2d other Продукты\n",
      "1de31be403 other Бытовая техника\n",
      "b71f36a5e4 other Продукты\n",
      "Больше совпадений нет\n"
     ]
    }
   ],
   "source": [
    "# Для каждого user_id в файле visit_log.csv добавьте третий столбец с категорией покупки (если покупка была).\n",
    "n = 200\n",
    "visit_prod = (0)\n",
    "s = ' '\n",
    "i = 0\n",
    "f_second = open('funnel.csv', 'w')\n",
    "\n",
    "with open('visit_log.csv','r') as f:\n",
    "    next(f)\n",
    "    for i in range(n):\n",
    "       \n",
    "        visit_prod = f.readline().strip().split(',')\n",
    "        \n",
    "        if visit_prod[0] in id_list:\n",
    "            visit_prod.append(id_prod[visit_prod[0]])\n",
    "            print(s.join(visit_prod))\n",
    "            #print(s)\n",
    "            \n",
    "            f_second.write('s.join(visit_prod)/n')\n",
    "            #print()   \n",
    "        \n",
    "        i += 1\n",
    "    f_second.close               \n",
    "print(f\"Больше совпадений нет\")\n",
    "   "
   ]
  },
  {
   "cell_type": "code",
   "execution_count": 116,
   "metadata": {},
   "outputs": [
    {
     "name": "stdout",
     "output_type": "stream",
     "text": [
      "1840e0b9d4 other Продукты\n",
      "4e4f90fcfb context Электроника\n",
      "afea8d72fc other Электроника\n",
      "373a6055fe other Бытовая техника\n",
      "9b2ab046f3 other Электроника\n",
      "9f39d307c3 context Электроника\n",
      "44edeffc91 context Продукты\n",
      "704474fa2d other Продукты\n",
      "1de31be403 other Бытовая техника\n",
      "b71f36a5e4 other Продукты\n",
      "Больше совпадений нет\n"
     ]
    }
   ],
   "source": [
    "# Для каждого user_id в файле visit_log.csv добавьте третий столбец с категорией покупки (если покупка была).\n",
    "n = 200\n",
    "visit_prod = (0)\n",
    "s = ' '\n",
    "i = 0\n",
    "with open('funnel.csv', 'w') as f_second:\n",
    "\n",
    "    with open('visit_log.csv','r') as f:\n",
    "        next(f)\n",
    "        for i in range(n):\n",
    "       \n",
    "            visit_prod = f.readline().strip().split(',')\n",
    "        \n",
    "            if visit_prod[0] in id_list:\n",
    "                visit_prod.append(id_prod[visit_prod[0]])\n",
    "                print(s.join(visit_prod))\n",
    "            #print(s)\n",
    "            \n",
    "                f_second.write(s.join(visit_prod))\n",
    "            #print()   \n",
    "        \n",
    "            i += 1\n",
    "    print(f\"Больше совпадений нет\")\n",
    "f_second.close()               \n",
    "\n",
    "   "
   ]
  },
  {
   "cell_type": "code",
   "execution_count": null,
   "metadata": {},
   "outputs": [],
   "source": []
  }
 ],
 "metadata": {
  "kernelspec": {
   "display_name": "Python 3",
   "language": "python",
   "name": "python3"
  },
  "language_info": {
   "codemirror_mode": {
    "name": "ipython",
    "version": 3
   },
   "file_extension": ".py",
   "mimetype": "text/x-python",
   "name": "python",
   "nbconvert_exporter": "python",
   "pygments_lexer": "ipython3",
   "version": "3.7.4"
  }
 },
 "nbformat": 4,
 "nbformat_minor": 2
}
